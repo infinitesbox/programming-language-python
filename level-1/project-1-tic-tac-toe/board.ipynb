{
 "cells": [
  {
   "cell_type": "markdown",
   "metadata": {},
   "source": [
    "# Project 1 - Tic Tac Toe\n",
    "### Board"
   ]
  },
  {
   "cell_type": "code",
   "execution_count": 1,
   "metadata": {},
   "outputs": [],
   "source": [
    "board = {\n",
    "    \"squares\": ['-', '-', '-', '-', '-', '-', '-', '-', '-'],\n",
    "    \"rounds\": 0,\n",
    "    \"token\": '-'\n",
    "}"
   ]
  },
  {
   "cell_type": "code",
   "execution_count": null,
   "metadata": {},
   "outputs": [],
   "source": [
    "def board_init(board, squares, rounds, token):\n",
    "    board[\"squares\"] = squares\n",
    "    board[\"rounds\"] = rounds\n",
    "    board[\"token\"] = token"
   ]
  },
  {
   "cell_type": "code",
   "execution_count": null,
   "metadata": {},
   "outputs": [],
   "source": [
    "def player_reset(board):\n",
    "    board[\"name\"] = ['-', '-', '-', '-', '-', '-', '-', '-', '-']\n",
    "    board[\"rounds\"] = 0\n",
    "    board[\"token\"] = 0"
   ]
  },
  {
   "cell_type": "code",
   "execution_count": null,
   "metadata": {},
   "outputs": [],
   "source": [
    "def board_show(board):\n",
    "    str = ''\n",
    "    for index in range(len(board[\"squares\"])):\n",
    "        str = str + '[{0}]'.format(board[\"squares\"][index])\n",
    "        if((index + 1) % 3 == 0):\n",
    "            str = str + '\\n'   \n",
    "    print(str)"
   ]
  },
  {
   "cell_type": "code",
   "execution_count": null,
   "metadata": {},
   "outputs": [],
   "source": [
    "def board_get_index_from_position(row, column):\n",
    "    if(row > 3 or column > 3):\n",
    "        raise NameError('Row and Column values must be less or equal than 3!')\n",
    "\n",
    "    if(row < 1 or column < 1):\n",
    "        raise NameError('Row and Column values must be more or equal than 1!')\n",
    "\n",
    "    start_index = 0\n",
    "\n",
    "    if(row == 2):\n",
    "        start_index = 3\n",
    "    if(row == 3):\n",
    "        start_index = 6\n",
    "    \n",
    "    index = start_index + (column - 1)\n",
    "\n",
    "    return index"
   ]
  },
  {
   "cell_type": "code",
   "execution_count": null,
   "metadata": {},
   "outputs": [],
   "source": [
    "def board_put_token(board, index, token):\n",
    "    if(board[\"squares\"][index] == '-'):\n",
    "        board[\"squares\"][index] = token\n",
    "        board[\"token\"]\n",
    "    else:\n",
    "        raise NameError('Have already a token!')\n",
    "    return board"
   ]
  },
  {
   "cell_type": "code",
   "execution_count": null,
   "metadata": {},
   "outputs": [],
   "source": [
    "def board_has_winner(board, index):\n",
    "    pass"
   ]
  },
  {
   "cell_type": "code",
   "execution_count": null,
   "metadata": {},
   "outputs": [],
   "source": [
    "def board_next_round(board):\n",
    "    board[\"rounds\"] = board[\"rounds\"] + 1"
   ]
  }
 ],
 "metadata": {
  "kernelspec": {
   "display_name": "Python 3.9.10 64-bit",
   "language": "python",
   "name": "python3"
  },
  "language_info": {
   "codemirror_mode": {
    "name": "ipython",
    "version": 3
   },
   "file_extension": ".py",
   "mimetype": "text/x-python",
   "name": "python",
   "nbconvert_exporter": "python",
   "pygments_lexer": "ipython3",
   "version": "3.9.10"
  },
  "orig_nbformat": 4,
  "vscode": {
   "interpreter": {
    "hash": "aee8b7b246df8f9039afb4144a1f6fd8d2ca17a180786b69acc140d282b71a49"
   }
  }
 },
 "nbformat": 4,
 "nbformat_minor": 2
}
