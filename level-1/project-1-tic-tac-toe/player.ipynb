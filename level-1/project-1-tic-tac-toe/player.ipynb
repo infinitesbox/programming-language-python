{
 "cells": [
  {
   "cell_type": "markdown",
   "metadata": {},
   "source": [
    "# Project 1 - Tic Tac Toe\n",
    "### Player"
   ]
  },
  {
   "cell_type": "code",
   "execution_count": null,
   "metadata": {},
   "outputs": [],
   "source": [
    "player = {\n",
    "    \"name\": \"----\",\n",
    "    \"wins_total\": 0,\n",
    "    \"losses_total\": 0\n",
    "}"
   ]
  },
  {
   "cell_type": "code",
   "execution_count": null,
   "metadata": {},
   "outputs": [],
   "source": [
    "def player_init(player, name, wins_total, losses_total):\n",
    "    player[\"name\"] = name\n",
    "    player[\"wins_total\"] = wins_total\n",
    "    player[\"losses_total\"] = losses_total"
   ]
  },
  {
   "cell_type": "code",
   "execution_count": null,
   "metadata": {},
   "outputs": [],
   "source": [
    "def player_reset(player):\n",
    "    player[\"name\"] = \"---\"\n",
    "    player[\"wins_total\"] = 0\n",
    "    player[\"losses_total\"] = 0"
   ]
  }
 ],
 "metadata": {
  "kernelspec": {
   "display_name": "Python 3.9.10 64-bit",
   "language": "python",
   "name": "python3"
  },
  "language_info": {
   "name": "python",
   "version": "3.9.10"
  },
  "orig_nbformat": 4,
  "vscode": {
   "interpreter": {
    "hash": "aee8b7b246df8f9039afb4144a1f6fd8d2ca17a180786b69acc140d282b71a49"
   }
  }
 },
 "nbformat": 4,
 "nbformat_minor": 2
}
