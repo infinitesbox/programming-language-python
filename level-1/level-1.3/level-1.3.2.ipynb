{
 "cells": [
  {
   "cell_type": "markdown",
   "metadata": {},
   "source": [
    "# Operators - Logic"
   ]
  },
  {
   "cell_type": "code",
   "execution_count": 4,
   "metadata": {},
   "outputs": [
    {
     "name": "stdout",
     "output_type": "stream",
     "text": [
      "True\n",
      "False\n"
     ]
    }
   ],
   "source": [
    "# With \"and\", all comparisons must be True\n",
    "# To get True\n",
    "1 == 1 and 2 == 2 # True\n",
    "print(1 == 1 and 2 == 2)\n",
    "1 == 1 and 1 == 2 # False\n",
    "print(1 == 1 and 1 == 2)"
   ]
  },
  {
   "cell_type": "code",
   "execution_count": 5,
   "metadata": {},
   "outputs": [
    {
     "name": "stdout",
     "output_type": "stream",
     "text": [
      "True\n",
      "False\n"
     ]
    }
   ],
   "source": [
    "# With \"or\", only one comparison need to be True\n",
    "# To get True\n",
    "1 == 1 or 1 == 2 # True\n",
    "print(1 == 1 or 1 == 2)\n",
    "1 == 2 or 1 == 3 # False\n",
    "print(1 == 2 or 1 == 3)"
   ]
  },
  {
   "cell_type": "code",
   "execution_count": 6,
   "metadata": {},
   "outputs": [
    {
     "data": {
      "text/plain": [
       "False"
      ]
     },
     "execution_count": 6,
     "metadata": {},
     "output_type": "execute_result"
    }
   ],
   "source": [
    "# With \"not\", you reverse the result\n",
    "# If True then it is False\n",
    "not (1 == 1) # False"
   ]
  },
  {
   "cell_type": "code",
   "execution_count": 4,
   "metadata": {},
   "outputs": [
    {
     "data": {
      "text/plain": [
       "True"
      ]
     },
     "execution_count": 4,
     "metadata": {},
     "output_type": "execute_result"
    }
   ],
   "source": [
    "not (1 == 2) # True"
   ]
  },
  {
   "cell_type": "code",
   "execution_count": 7,
   "metadata": {},
   "outputs": [
    {
     "data": {
      "text/plain": [
       "False"
      ]
     },
     "execution_count": 7,
     "metadata": {},
     "output_type": "execute_result"
    }
   ],
   "source": [
    "# You can also combine with multiple \"and\" and \"or\"\n",
    "# the deepest parentheses is in priority\n",
    "not( 1 == 1 and (2 > 1 or 2 == 3) )\n",
    "\n",
    "1 == 1 # True\n",
    "\n",
    "(2 > 1 or 2 == 3) # True Or False => True\n",
    "\n",
    "1 == 1 and (2 > 1 or 2 == 3) # True And True => True\n",
    "\n",
    "\n",
    "not( 1 == 1 and (2 > 1 or 2 == 3) ) # False"
   ]
  }
 ],
 "metadata": {
  "kernelspec": {
   "display_name": "Python 3.9.10 64-bit",
   "language": "python",
   "name": "python3"
  },
  "language_info": {
   "codemirror_mode": {
    "name": "ipython",
    "version": 3
   },
   "file_extension": ".py",
   "mimetype": "text/x-python",
   "name": "python",
   "nbconvert_exporter": "python",
   "pygments_lexer": "ipython3",
   "version": "3.9.10"
  },
  "orig_nbformat": 4,
  "vscode": {
   "interpreter": {
    "hash": "aee8b7b246df8f9039afb4144a1f6fd8d2ca17a180786b69acc140d282b71a49"
   }
  }
 },
 "nbformat": 4,
 "nbformat_minor": 2
}
