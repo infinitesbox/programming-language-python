{
 "cells": [
  {
   "cell_type": "markdown",
   "metadata": {},
   "source": [
    "# Function"
   ]
  },
  {
   "cell_type": "code",
   "execution_count": 1,
   "metadata": {},
   "outputs": [
    {
     "name": "stdout",
     "output_type": "stream",
     "text": [
      "Hello  John Doe\n"
     ]
    }
   ],
   "source": [
    "# If you want reuse several lines of code you can create function\n",
    "# to create function do in the following way\n",
    "def print_hello():\n",
    "    name = \"John Doe\"\n",
    "    print(\"Hello \", name)\n",
    "\n",
    "# to call a funtion\n",
    "print_hello()"
   ]
  },
  {
   "cell_type": "code",
   "execution_count": 7,
   "metadata": {},
   "outputs": [
    {
     "name": "stdout",
     "output_type": "stream",
     "text": [
      "Hello  John Doe\n",
      "Welcome  Jane Doe\n"
     ]
    }
   ],
   "source": [
    "# function with parameters\n",
    "def print_hello(name):\n",
    "    print(\"Hello \", name)\n",
    "\n",
    "# to call a funtion\n",
    "name = \"John Doe\"\n",
    "print_hello(name)\n",
    "\n",
    "def print_welcome(first_name, last_name):\n",
    "    print(\"Welcome \", first_name, last_name)\n",
    "\n",
    "first_name = \"Jane\"\n",
    "last_name = \"Doe\"\n",
    "print_welcome(first_name, last_name)"
   ]
  },
  {
   "cell_type": "code",
   "execution_count": 9,
   "metadata": {},
   "outputs": [
    {
     "name": "stdout",
     "output_type": "stream",
     "text": [
      "25.237401\n"
     ]
    }
   ],
   "source": [
    "# function can return value\n",
    "\n",
    "price = 100.99\n",
    "discount = 24.99\n",
    "def get_price_after_discount(price, discount):\n",
    "    return price * (discount / 100)\n",
    "\n",
    "price = 100.99\n",
    "discount = 24.99\n",
    "price_final = get_price_after_discount(price, discount)\n",
    "print(price_final)"
   ]
  },
  {
   "cell_type": "code",
   "execution_count": 5,
   "metadata": {},
   "outputs": [],
   "source": [
    "# create some prototype of function\n",
    "# for example you can use to create a plan but you do not exactly what you want to put inside \n",
    "# so you will complete it later\n",
    "def ai_message():\n",
    "    pass\n",
    "\n",
    "def humain_message():\n",
    "    pass"
   ]
  }
 ],
 "metadata": {
  "interpreter": {
   "hash": "aee8b7b246df8f9039afb4144a1f6fd8d2ca17a180786b69acc140d282b71a49"
  },
  "kernelspec": {
   "display_name": "Python 3.9.6 64-bit",
   "language": "python",
   "name": "python3"
  },
  "language_info": {
   "codemirror_mode": {
    "name": "ipython",
    "version": 3
   },
   "file_extension": ".py",
   "mimetype": "text/x-python",
   "name": "python",
   "nbconvert_exporter": "python",
   "pygments_lexer": "ipython3",
   "version": "3.9.10"
  },
  "orig_nbformat": 4
 },
 "nbformat": 4,
 "nbformat_minor": 2
}
