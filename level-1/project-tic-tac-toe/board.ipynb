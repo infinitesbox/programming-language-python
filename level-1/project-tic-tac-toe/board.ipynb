{
 "cells": [
  {
   "cell_type": "markdown",
   "metadata": {},
   "source": [
    "# Project 1 - Tic Tac Toe\n",
    "### Board"
   ]
  },
  {
   "cell_type": "code",
   "execution_count": 1,
   "metadata": {},
   "outputs": [],
   "source": [
    "board = {\n",
    "    'squares': ['-', '-', '-', '-', '-', '-', '-', '-', '-'],\n",
    "    'rounds': 1,\n",
    "    'token': '-'\n",
    "}"
   ]
  },
  {
   "cell_type": "code",
   "execution_count": null,
   "metadata": {},
   "outputs": [],
   "source": [
    "def board_create():\n",
    "    board = {\n",
    "        'squares': ['-', '-', '-', '-', '-', '-', '-', '-', '-'],\n",
    "        'rounds': 1,\n",
    "        'token': '-'\n",
    "    }\n",
    "    return board"
   ]
  },
  {
   "cell_type": "code",
   "execution_count": null,
   "metadata": {},
   "outputs": [],
   "source": [
    "def board_init(board, squares, rounds, token):\n",
    "    board['squares'] = squares\n",
    "    board['rounds'] = rounds\n",
    "    board['token'] = token"
   ]
  },
  {
   "cell_type": "code",
   "execution_count": null,
   "metadata": {},
   "outputs": [],
   "source": [
    "def player_reset(board):\n",
    "    board['name'] = ['-', '-', '-', '-', '-', '-', '-', '-', '-']\n",
    "    board['rounds'] = 1\n",
    "    board['token'] = '-'"
   ]
  },
  {
   "cell_type": "code",
   "execution_count": null,
   "metadata": {},
   "outputs": [],
   "source": [
    "def board_show(board):\n",
    "    str = ''\n",
    "    for index in range(9):\n",
    "        str = str + '[{0}]'.format(board['squares'][index])\n",
    "        if((index + 1) % 3 == 0):\n",
    "            str = str + '\\n'   \n",
    "    print(str)"
   ]
  },
  {
   "cell_type": "code",
   "execution_count": null,
   "metadata": {},
   "outputs": [],
   "source": [
    "def board_get_index_from_position(row, column):\n",
    "    if(row > 3 or column > 3):\n",
    "        print('Row and Column values must be less or equal than 3!')\n",
    "        return\n",
    "\n",
    "    if(row < 1 or column < 1):\n",
    "        print('Row and Column values must be more or equal than 1!')\n",
    "        return\n",
    "\n",
    "    start_index = 0\n",
    "\n",
    "    if(row == 2):\n",
    "        start_index = 3\n",
    "    if(row == 3):\n",
    "        start_index = 6\n",
    "    \n",
    "    index = start_index + (column - 1)\n",
    "\n",
    "    return index"
   ]
  },
  {
   "cell_type": "code",
   "execution_count": null,
   "metadata": {},
   "outputs": [],
   "source": [
    "def board_put_token(board, index, token):\n",
    "    if(board['squares'][index] == '-'):\n",
    "        board['squares'][index] = token\n",
    "        board['token'] = token\n",
    "    else:\n",
    "        print('Have already a token!')\n",
    "        return\n",
    "    return board"
   ]
  },
  {
   "cell_type": "code",
   "execution_count": null,
   "metadata": {},
   "outputs": [],
   "source": [
    "def board_has_winner(board):\n",
    "    # rows\n",
    "    if(board['squares'][0] != '-' and board['squares'][0] == board['squares'][1] and board['squares'][1] == board['squares'][2]):\n",
    "        return (True, board['squares'][0])\n",
    "\n",
    "    if(board['squares'][3] != '-' and board['squares'][3] == board['squares'][4] and board['squares'][4] == board['squares'][5]):\n",
    "        return (True, board['squares'][3])\n",
    "\n",
    "    if(board['squares'][6] != '-' and board['squares'][6] == board['squares'][7] and board['squares'][7] == board['squares'][8]):\n",
    "        return (True, board['squares'][6])\n",
    "\n",
    "    # columns\n",
    "    if(board['squares'][0] != '-' and board['squares'][0] == board['squares'][3] and board['squares'][3] == board['squares'][6]):\n",
    "        return (True, board['squares'][0])\n",
    "\n",
    "    if(board['squares'][1] != '-' and board['squares'][1] == board['squares'][4] and board['squares'][4] == board['squares'][7]):\n",
    "        return (True, board['squares'][1])\n",
    "\n",
    "    if(board['squares'][2] != '-' and board['squares'][2] == board['squares'][5] and board['squares'][5] == board['squares'][8]):\n",
    "        return (True, board['squares'][2])\n",
    "\n",
    "    # diagonals\n",
    "    if(board['squares'][0] != '-' and board['squares'][0] == board['squares'][4] and board['squares'][4] == board['squares'][8]):\n",
    "        return (True, board['squares'][0])\n",
    "\n",
    "    if(board['squares'][2] != '-' and board['squares'][2] == board['squares'][4] and board['squares'][4] == board['squares'][6]):\n",
    "        return (True, board['squares'][2])\n",
    "\n",
    "    return (False, '-')"
   ]
  },
  {
   "cell_type": "code",
   "execution_count": null,
   "metadata": {},
   "outputs": [],
   "source": [
    "def board_next_round(board):\n",
    "    board['rounds'] = board['rounds'] + 1"
   ]
  },
  {
   "cell_type": "code",
   "execution_count": null,
   "metadata": {},
   "outputs": [],
   "source": [
    "def board_get_token(board):\n",
    "    if(board['rounds'] % 2 != 0):\n",
    "        return 'X'\n",
    "    else:\n",
    "        return 'O'"
   ]
  }
 ],
 "metadata": {
  "kernelspec": {
   "display_name": "Python 3.9.10 64-bit",
   "language": "python",
   "name": "python3"
  },
  "language_info": {
   "codemirror_mode": {
    "name": "ipython",
    "version": 3
   },
   "file_extension": ".py",
   "mimetype": "text/x-python",
   "name": "python",
   "nbconvert_exporter": "python",
   "pygments_lexer": "ipython3",
   "version": "3.9.10"
  },
  "orig_nbformat": 4,
  "vscode": {
   "interpreter": {
    "hash": "aee8b7b246df8f9039afb4144a1f6fd8d2ca17a180786b69acc140d282b71a49"
   }
  }
 },
 "nbformat": 4,
 "nbformat_minor": 2
}
