{
 "cells": [
  {
   "cell_type": "markdown",
   "metadata": {},
   "source": [
    "# Control Flow"
   ]
  },
  {
   "cell_type": "code",
   "execution_count": 4,
   "metadata": {},
   "outputs": [
    {
     "name": "stdout",
     "output_type": "stream",
     "text": [
      "1\n",
      "2\n",
      "3\n",
      "4\n",
      "5\n",
      "6\n",
      "7\n",
      "8\n",
      "9\n"
     ]
    }
   ],
   "source": [
    "items_total = 1\n",
    "\n",
    "# Until the condition is True\n",
    "# All lines of code will be executed in a loop\n",
    "while items_total < 10 :\n",
    "    print(items_total)\n",
    "    # You must find a way to stop the condition\n",
    "    items_total = items_total + 1 \n",
    "\n",
    "# while is for create a loop\n",
    "# if condition is True then the loop will be executed until the condition is False\n",
    "# so you must find a way inside the loop to stop the condition\n"
   ]
  },
  {
   "cell_type": "code",
   "execution_count": 1,
   "metadata": {},
   "outputs": [
    {
     "name": "stdout",
     "output_type": "stream",
     "text": [
      "5\n",
      "6\n",
      "7\n"
     ]
    }
   ],
   "source": [
    "items_total = 1\n",
    "\n",
    "while items_total < 10 :\n",
    "    \n",
    "    items_total = items_total + 1\n",
    "        \n",
    "    if items_total < 5  and items_total > 1 : \n",
    "        # this keyword will ignore all next lines\n",
    "        # and go to the next loop\n",
    "        continue\n",
    "\n",
    "    if items_total == 8 :\n",
    "        # this keyword will stop the loop\n",
    "        break\n",
    "\n",
    "    print(items_total)\n"
   ]
  },
  {
   "cell_type": "code",
   "execution_count": 2,
   "metadata": {},
   "outputs": [
    {
     "name": "stdout",
     "output_type": "stream",
     "text": [
      "T-Shirt\n",
      "Shirt\n",
      "Short\n",
      "Cap\n"
     ]
    }
   ],
   "source": [
    "items = ['T-Shirt', 'Shirt', 'Short', 'Cap']\n",
    "\n",
    "index = 0 \n",
    "while index < 4 :\n",
    "    print(items[index])\n",
    "    index = index + 1\n",
    "\n"
   ]
  },
  {
   "cell_type": "code",
   "execution_count": 4,
   "metadata": {},
   "outputs": [
    {
     "name": "stdout",
     "output_type": "stream",
     "text": [
      "T-Shirt\n",
      "Shirt\n",
      "Short\n",
      "Cap\n"
     ]
    }
   ],
   "source": [
    "items = ['T-Shirt', 'Shirt', 'Short', 'Cap']\n",
    "\n",
    "# For each is another way to create a loop\n",
    "# This will get automatically the next item of List\n",
    "for item in items :\n",
    "    print(item)"
   ]
  },
  {
   "cell_type": "code",
   "execution_count": 5,
   "metadata": {},
   "outputs": [
    {
     "name": "stdout",
     "output_type": "stream",
     "text": [
      "0\n",
      "1\n",
      "2\n",
      "3\n",
      "4\n",
      "5\n",
      "6\n",
      "7\n",
      "8\n",
      "9\n"
     ]
    }
   ],
   "source": [
    "# range() is a Something Special to create a List\n",
    "for index in range(10) : # [0, 1, 2, 3, 4, 5, 6, 7, 8, 9]   \n",
    "    print(index)"
   ]
  },
  {
   "cell_type": "code",
   "execution_count": 6,
   "metadata": {},
   "outputs": [
    {
     "name": "stdout",
     "output_type": "stream",
     "text": [
      "5\n",
      "6\n",
      "7\n",
      "8\n",
      "9\n"
     ]
    }
   ],
   "source": [
    "for index in range(5, 10) : # [5, 6, 7, 8, 9] \n",
    "    print(index)"
   ]
  }
 ],
 "metadata": {
  "interpreter": {
   "hash": "aee8b7b246df8f9039afb4144a1f6fd8d2ca17a180786b69acc140d282b71a49"
  },
  "kernelspec": {
   "display_name": "Python 3.9.6 64-bit",
   "language": "python",
   "name": "python3"
  },
  "language_info": {
   "codemirror_mode": {
    "name": "ipython",
    "version": 3
   },
   "file_extension": ".py",
   "mimetype": "text/x-python",
   "name": "python",
   "nbconvert_exporter": "python",
   "pygments_lexer": "ipython3",
   "version": "3.9.13"
  },
  "orig_nbformat": 4
 },
 "nbformat": 4,
 "nbformat_minor": 2
}
