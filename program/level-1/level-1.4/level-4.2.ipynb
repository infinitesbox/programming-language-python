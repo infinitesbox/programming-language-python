{
 "cells": [
  {
   "cell_type": "markdown",
   "metadata": {},
   "source": [
    "# Anonymous Function"
   ]
  },
  {
   "cell_type": "code",
   "execution_count": 1,
   "metadata": {},
   "outputs": [
    {
     "name": "stdout",
     "output_type": "stream",
     "text": [
      "🎉 Welcome  John Doe  ! \n",
      " Your account is created:  2022-01-01\n",
      "🎉 Welcome  Jane Doe  ! \n",
      " Your account is created:  2022-02-02\n"
     ]
    }
   ],
   "source": [
    "# To create Anonymous Function you need:\n",
    "# - the keyword \"lambda\" \n",
    "# - parameters (optional) \n",
    "# - the \":\" sign \n",
    "lambda name, date: print('🎉 Welcome ', name,' !', '\\n', 'Your account is created: ', date)\n",
    "\n",
    "# If you want to use\n",
    "# you must put as a value of a variable\n",
    "message_welcome = lambda name, date:  print('🎉 Welcome ', name,' !', '\\n', 'Your account is created: ', date)\n",
    "\n",
    "# Call the function\n",
    "message_welcome('John Doe', '2022-01-01')\n",
    "# Call the function\n",
    "message_welcome('Jane Doe', '2022-02-02')"
   ]
  }
 ],
 "metadata": {
  "interpreter": {
   "hash": "aee8b7b246df8f9039afb4144a1f6fd8d2ca17a180786b69acc140d282b71a49"
  },
  "kernelspec": {
   "display_name": "Python 3.9.6 64-bit",
   "language": "python",
   "name": "python3"
  },
  "language_info": {
   "codemirror_mode": {
    "name": "ipython",
    "version": 3
   },
   "file_extension": ".py",
   "mimetype": "text/x-python",
   "name": "python",
   "nbconvert_exporter": "python",
   "pygments_lexer": "ipython3",
   "version": "3.9.10"
  },
  "orig_nbformat": 4
 },
 "nbformat": 4,
 "nbformat_minor": 2
}
