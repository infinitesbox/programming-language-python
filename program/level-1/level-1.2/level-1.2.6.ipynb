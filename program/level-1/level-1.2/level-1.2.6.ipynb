{
 "cells": [
  {
   "cell_type": "markdown",
   "metadata": {},
   "source": [
    "# Dictionary"
   ]
  },
  {
   "cell_type": "code",
   "execution_count": 2,
   "metadata": {},
   "outputs": [
    {
     "name": "stdout",
     "output_type": "stream",
     "text": [
      "{'name': 'T-Shirt Blue', 'price': 1.99, 'color': 'Black', 'quantity': 10}\n",
      "{'name': 'T-Shirt', 'price': 1.99, 'color': 'White', 'quantity': 10}\n",
      "{'name': 'T-Shirt', 'price': 1.99, 'color': 'Orange', 'quantity': 10}\n"
     ]
    }
   ],
   "source": [
    "# Dictionary is another special type, on which you can store multiple values\n",
    "# but this time you have key and value\n",
    "# key is like unique name to identify the value\n",
    "# to create Dictionary \n",
    "\n",
    "item_1 = {\n",
    "    'name': 'T-Shirt', # the key is 'name' and the value is 'T-Shirt'  \n",
    "    'price': 1.99, # the key is 'price' and the value is '1.99'\n",
    "    'color': 'Black', # the key is 'color' and the value is 'Black' \n",
    "    'quantity': 10, # the key is 'quantity' and the value is '10' \n",
    "    'name': 'T-Shirt Blue', # the key is 'name' and the value is 'T-Shirt Blue' \n",
    "}\n",
    "\n",
    "item_2 = {\n",
    "    'name': 'T-Shirt',\n",
    "    'price': 1.99,\n",
    "    'color': 'White',\n",
    "    'quantity': 10,\n",
    "}\n",
    "\n",
    "item_3 = {\n",
    "    'name': 'T-Shirt',\n",
    "    'price': 1.99,\n",
    "    'color': 'Orange',\n",
    "    'quantity': 10,\n",
    "}\n",
    "\n",
    "\n",
    "print(item_1)\n",
    "print(item_2)\n",
    "print(item_3)"
   ]
  },
  {
   "cell_type": "code",
   "execution_count": 3,
   "metadata": {},
   "outputs": [
    {
     "name": "stdout",
     "output_type": "stream",
     "text": [
      "T-Shirt Blue 1.99 Black 10\n"
     ]
    }
   ],
   "source": [
    "# you can get a particular value with the key in this following way\n",
    "print(item_1['name'], item_1['price'], item_1['color'], item_1['quantity'])"
   ]
  },
  {
   "cell_type": "code",
   "execution_count": 4,
   "metadata": {},
   "outputs": [
    {
     "name": "stdout",
     "output_type": "stream",
     "text": [
      "{'name': 'T-Shirt Blue', 'price': 1.99, 'color': 'Black', 'quantity': 10, 'test': 'Test'}\n"
     ]
    }
   ],
   "source": [
    "# you can replace the value in this following way\n",
    "item_1['test'] = 'Test'\n",
    "print(item_1)"
   ]
  },
  {
   "cell_type": "code",
   "execution_count": 5,
   "metadata": {},
   "outputs": [
    {
     "name": "stdout",
     "output_type": "stream",
     "text": [
      "{'name': 'T-Shirt Blue', 'price': 1.99, 'color': 'Black', 'quantity': 10}\n"
     ]
    }
   ],
   "source": [
    "# you can delete the value in this following way\n",
    "del item_1['test']\n",
    "print(item_1)"
   ]
  },
  {
   "cell_type": "code",
   "execution_count": 6,
   "metadata": {},
   "outputs": [
    {
     "data": {
      "text/plain": [
       "True"
      ]
     },
     "execution_count": 6,
     "metadata": {},
     "output_type": "execute_result"
    }
   ],
   "source": [
    "# you can check if the key 'name' is exist in the Dictionary  \n",
    "'name' in item_1"
   ]
  },
  {
   "cell_type": "code",
   "execution_count": 11,
   "metadata": {},
   "outputs": [
    {
     "data": {
      "text/plain": [
       "False"
      ]
     },
     "execution_count": 11,
     "metadata": {},
     "output_type": "execute_result"
    }
   ],
   "source": [
    "'T-Shirt' in item_1"
   ]
  },
  {
   "cell_type": "code",
   "execution_count": 12,
   "metadata": {},
   "outputs": [
    {
     "data": {
      "text/plain": [
       "True"
      ]
     },
     "execution_count": 12,
     "metadata": {},
     "output_type": "execute_result"
    }
   ],
   "source": [
    "# you can also check if the key 'name' is NOT exist in the Dictionary  \n",
    "'T-Shirt' not in item_1"
   ]
  }
 ],
 "metadata": {
  "interpreter": {
   "hash": "aee8b7b246df8f9039afb4144a1f6fd8d2ca17a180786b69acc140d282b71a49"
  },
  "kernelspec": {
   "display_name": "Python 3.9.6 64-bit",
   "language": "python",
   "name": "python3"
  },
  "language_info": {
   "codemirror_mode": {
    "name": "ipython",
    "version": 3
   },
   "file_extension": ".py",
   "mimetype": "text/x-python",
   "name": "python",
   "nbconvert_exporter": "python",
   "pygments_lexer": "ipython3",
   "version": "3.9.13"
  },
  "orig_nbformat": 4
 },
 "nbformat": 4,
 "nbformat_minor": 2
}
