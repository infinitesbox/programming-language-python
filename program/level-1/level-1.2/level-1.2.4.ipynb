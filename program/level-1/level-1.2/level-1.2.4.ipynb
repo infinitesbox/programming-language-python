{
 "cells": [
  {
   "cell_type": "markdown",
   "metadata": {},
   "source": [
    "# Variables"
   ]
  },
  {
   "cell_type": "code",
   "execution_count": 5,
   "metadata": {},
   "outputs": [],
   "source": [
    "# variable in like a virtual box on which you can strore only one value\n",
    "# variable has name, name can only contain letters from a-z or A-Z and digit 0-9 and the _ sign \n",
    "# variable can contain value with =\n",
    "# there are several types of value\n",
    "variable_1 = 2 # type => integer\n",
    "variable_2 = 2 # type => integer\n",
    "name = 'John Doe' # type => string\n",
    "email = 'johndoe@gamil.com' # type => string (text)\n",
    "age = 30 # type => integer\n",
    "weight = 80.69 # type => floating (decimal)  \n",
    "\n",
    "# we can use operators (+, -, *, / ...) with variables  \n",
    "result = variable_1 ** variable_2"
   ]
  },
  {
   "cell_type": "code",
   "execution_count": 6,
   "metadata": {},
   "outputs": [
    {
     "name": "stdout",
     "output_type": "stream",
     "text": [
      "Result:  4  Variable-1 =  2  Variable-2 =  2\n"
     ]
    }
   ],
   "source": [
    "# you can print variables in this following way\n",
    "print('Result: ', result, ' Variable-1 = ', variable_1, ' Variable-2 = ', variable_2)"
   ]
  },
  {
   "cell_type": "code",
   "execution_count": 7,
   "metadata": {},
   "outputs": [
    {
     "name": "stdout",
     "output_type": "stream",
     "text": [
      "Result: Variable-1 = 2 Variable-2 = 2\n"
     ]
    }
   ],
   "source": [
    "# you can also print variables in this following way\n",
    "text = 'Result: Variable-1 = {0} Variable-2 = {1}'.format(variable_1, variable_2)\n",
    "print(text)"
   ]
  }
 ],
 "metadata": {
  "interpreter": {
   "hash": "aee8b7b246df8f9039afb4144a1f6fd8d2ca17a180786b69acc140d282b71a49"
  },
  "kernelspec": {
   "display_name": "Python 3.9.6 64-bit",
   "language": "python",
   "name": "python3"
  },
  "language_info": {
   "codemirror_mode": {
    "name": "ipython",
    "version": 3
   },
   "file_extension": ".py",
   "mimetype": "text/x-python",
   "name": "python",
   "nbconvert_exporter": "python",
   "pygments_lexer": "ipython3",
   "version": "3.9.13"
  },
  "orig_nbformat": 4
 },
 "nbformat": 4,
 "nbformat_minor": 2
}
