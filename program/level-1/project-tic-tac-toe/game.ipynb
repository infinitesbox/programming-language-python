{
 "cells": [
  {
   "cell_type": "markdown",
   "metadata": {},
   "source": [
    "# Project 1 - Tic Tac Toe\n",
    "\n",
    "### Game"
   ]
  },
  {
   "cell_type": "code",
   "execution_count": null,
   "metadata": {},
   "outputs": [],
   "source": [
    "# def game_play():\n",
    "\n",
    "    # board = board_create()\n",
    "\n",
    "    # is_finished = False\n",
    "\n",
    "    # board_show(board)\n",
    "\n",
    "    # while (is_finished != True):\n",
    "        \n",
    "        # something to select the row for the token\n",
    "        # row = ...\n",
    "\n",
    "        # something to select the column for the token\n",
    "        # column = ...\n",
    "\n",
    "        # token = board_get_token(board)\n",
    "         \n",
    "        # index = board_get_index(row, column)\n",
    "\n",
    "        # board_put_token(board, index, token)\n",
    "\n",
    "        # board_show(board)\n",
    "\n",
    "        # has_winner, winner_token = board_has_winner(board)\n",
    "\n",
    "        # if(has_winner == True):\n",
    "        #    print('We have a winner!')\n",
    "        #    print('Winner: ', board['token'])\n",
    "        #    print('Win in ', board['rounds'], ' rounds!')\n",
    "        #    break\n",
    "\n",
    "        # is_finished = board_next_round(board)\n",
    "        # if(is_finished == True):\n",
    "        #     print('No Winner - Game Over!')\n",
    "        #     break\n",
    "\n"
   ]
  },
  {
   "cell_type": "code",
   "execution_count": null,
   "metadata": {},
   "outputs": [],
   "source": [
    "# play()"
   ]
  }
 ],
 "metadata": {
  "kernelspec": {
   "display_name": "Python 3.9.10 64-bit",
   "language": "python",
   "name": "python3"
  },
  "language_info": {
   "name": "python",
   "version": "3.9.10"
  },
  "orig_nbformat": 4,
  "vscode": {
   "interpreter": {
    "hash": "aee8b7b246df8f9039afb4144a1f6fd8d2ca17a180786b69acc140d282b71a49"
   }
  }
 },
 "nbformat": 4,
 "nbformat_minor": 2
}
