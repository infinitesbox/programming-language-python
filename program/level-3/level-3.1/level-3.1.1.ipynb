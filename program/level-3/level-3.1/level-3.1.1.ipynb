{
 "cells": [
  {
   "cell_type": "markdown",
   "metadata": {},
   "source": [
    "# Prototype And Object - \"class\""
   ]
  },
  {
   "cell_type": "code",
   "execution_count": 6,
   "metadata": {},
   "outputs": [],
   "source": [
    "# with 'class' you can organise your code more efficiently\n",
    "# you do not need to create long unique variables and functions names, and much more ...\n",
    "# 'class' something like a 'Prototype'\n",
    "# and with this 'Prototype' (Plan) you can create lot of 'Objects'\n",
    "# for example: \n",
    "# - a Plan (Prototype) for Car\n",
    "# - from this 'Prototype' (Plan) you create multiple Car (Object)\n",
    "# all variables and functions are regrouped for specific use case\n",
    "# variables are called properties\n",
    "# functions are called methods\n",
    "class User:\n",
    "\n",
    "    version = '1.0.v'\n",
    "\n",
    "    \"\"\" Init Function \"\"\"\n",
    "    def __init__(self, name, email, password) :\n",
    "        self.name = name\n",
    "        self.email = email\n",
    "        self.password = password\n",
    "    \n",
    "    \"\"\" Show User \"\"\"\n",
    "    def show(self) :\n",
    "        print(self.name, self.email, self.password)\n",
    "    \n",
    "\n"
   ]
  },
  {
   "cell_type": "code",
   "execution_count": 9,
   "metadata": {},
   "outputs": [
    {
     "name": "stdout",
     "output_type": "stream",
     "text": [
      "1.0.v\n",
      "Jonh Doe johndoe@customer.com customer1\n",
      "1.0.v\n",
      "Jane Doe janedoe@customer.com customer2\n"
     ]
    }
   ],
   "source": [
    "user_1 = User('Jonh Doe', 'johndoe@customer.com', 'customer1')\n",
    "print(user_1.version)\n",
    "user_1.show()\n",
    "\n",
    "user_2 = User('Jane Doe', 'janedoe@customer.com', 'customer2')\n",
    "print(user_2.version)\n",
    "user_2.show()\n"
   ]
  }
 ],
 "metadata": {
  "interpreter": {
   "hash": "aee8b7b246df8f9039afb4144a1f6fd8d2ca17a180786b69acc140d282b71a49"
  },
  "kernelspec": {
   "display_name": "Python 3.9.6 64-bit",
   "language": "python",
   "name": "python3"
  },
  "language_info": {
   "codemirror_mode": {
    "name": "ipython",
    "version": 3
   },
   "file_extension": ".py",
   "mimetype": "text/x-python",
   "name": "python",
   "nbconvert_exporter": "python",
   "pygments_lexer": "ipython3",
   "version": "3.9.13"
  },
  "orig_nbformat": 4
 },
 "nbformat": 4,
 "nbformat_minor": 2
}
