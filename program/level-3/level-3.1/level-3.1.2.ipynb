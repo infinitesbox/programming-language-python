{
 "cells": [
  {
   "cell_type": "markdown",
   "metadata": {},
   "source": [
    "# Inheritance"
   ]
  },
  {
   "cell_type": "code",
   "execution_count": 1,
   "metadata": {},
   "outputs": [],
   "source": [
    "# inheritance will make your organisation more flexible\n",
    "class User:\n",
    "\n",
    "    version = '1.0.v'\n",
    "\n",
    "    \"\"\" Init Function \"\"\"\n",
    "    def __init__(self, name, email, password):\n",
    "        self.name = name\n",
    "        self.email = email\n",
    "        self.password = password\n",
    "    \n",
    "    \"\"\" Show User \"\"\"\n",
    "    def show(self):\n",
    "        print(self.name, self.email, self.password)\n",
    "\n",
    "# inheritance will make your organisation more flexible\n",
    "# to say that one class inherit another one you should use () and the name of the class\n",
    "class Cutomer(User):\n",
    "\n",
    "    version = '1.0.v'\n",
    "\n",
    "    \"\"\" Init Function \"\"\"\n",
    "    def __init__(self, name, email, password):\n",
    "        # use super() to init parent class \n",
    "        super().__init__(name, email, password)\n",
    "        # ....\n",
    "    \n",
    "    \"\"\" Show User \"\"\"\n",
    "    def show(self):\n",
    "        # use super() to have access to parent methods \n",
    "        super().show()\n",
    "        print('I am Customer')\n",
    "\n",
    "class Administrator(User):\n",
    "\n",
    "    version = '1.0.v'\n",
    "\n",
    "    \"\"\" Init Function \"\"\"\n",
    "    def __init__(self, name, email, password):\n",
    "        super().__init__(name, email, password)\n",
    "        # ....\n",
    "    \n",
    "    \"\"\" Show User \"\"\"\n",
    "    def show(self):\n",
    "        super().show()\n",
    "        print('I am Admi')\n"
   ]
  },
  {
   "cell_type": "code",
   "execution_count": 4,
   "metadata": {},
   "outputs": [
    {
     "name": "stdout",
     "output_type": "stream",
     "text": [
      "1.0.v\n",
      "Jonh Doe johndoe@user.com user1\n",
      "1.0.v\n",
      "Jane Doe janedoe@customer.com customer2\n",
      "I am Customer\n",
      "1.0.v\n",
      "Jesica Doe jesicadoe@administrator.com administrator3\n",
      "I am Admi\n"
     ]
    }
   ],
   "source": [
    "user_1 = User('Jonh Doe', 'johndoe@user.com', 'user1')\n",
    "print(user_1.version)\n",
    "user_1.show()\n",
    "\n",
    "user_2 = Cutomer('Jane Doe', 'janedoe@customer.com', 'customer2')\n",
    "print(user_2.version)\n",
    "user_2.show()\n",
    "\n",
    "user_3 = Administrator('Jesica Doe', 'jesicadoe@administrator.com', 'administrator3')\n",
    "print(user_3.version)\n",
    "user_3.show()"
   ]
  }
 ],
 "metadata": {
  "interpreter": {
   "hash": "aee8b7b246df8f9039afb4144a1f6fd8d2ca17a180786b69acc140d282b71a49"
  },
  "kernelspec": {
   "display_name": "Python 3.9.6 64-bit",
   "language": "python",
   "name": "python3"
  },
  "language_info": {
   "codemirror_mode": {
    "name": "ipython",
    "version": 3
   },
   "file_extension": ".py",
   "mimetype": "text/x-python",
   "name": "python",
   "nbconvert_exporter": "python",
   "pygments_lexer": "ipython3",
   "version": "3.9.13"
  },
  "orig_nbformat": 4
 },
 "nbformat": 4,
 "nbformat_minor": 2
}
