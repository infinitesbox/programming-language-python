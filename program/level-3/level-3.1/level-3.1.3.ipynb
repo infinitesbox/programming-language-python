{
 "cells": [
  {
   "cell_type": "markdown",
   "metadata": {},
   "source": [
    "# Just Prototype"
   ]
  },
  {
   "cell_type": "code",
   "execution_count": 1,
   "metadata": {},
   "outputs": [],
   "source": [
    "# sometimes you need to create an empty class\n",
    "# the example of use case:\n",
    "# - you can use a Special Python Code that can load data from file (csv, json, …) and convert in python Object\n",
    "# below an example of use case\n",
    "\n",
    "# import JSON\n",
    "\n",
    "# Users: name: String: email: String, age: Integer\n",
    "# Data Type - XML\n",
    "# @Josn()\n",
    "class User:\n",
    "    pass\n"
   ]
  },
  {
   "cell_type": "code",
   "execution_count": 2,
   "metadata": {},
   "outputs": [
    {
     "data": {
      "text/plain": [
       "{'name': '', 'email': '', 'password': ''}"
      ]
     },
     "execution_count": 2,
     "metadata": {},
     "output_type": "execute_result"
    }
   ],
   "source": [
    "{\n",
    "    'name': '',\n",
    "    'email': '',\n",
    "    'password': '',\n",
    "}"
   ]
  },
  {
   "cell_type": "code",
   "execution_count": 3,
   "metadata": {},
   "outputs": [
    {
     "name": "stdout",
     "output_type": "stream",
     "text": [
      "<__main__.User object at 0x108b7c670> Jonh Doe johndoe@customer.com customer1\n"
     ]
    }
   ],
   "source": [
    "user_1 = User()\n",
    "user_1.name = 'Jonh Doe'\n",
    "user_1.email = 'johndoe@customer.com'\n",
    "user_1.password = 'customer1'\n",
    "\n",
    "print(user_1, user_1.name, user_1.email, user_1.password)\n"
   ]
  }
 ],
 "metadata": {
  "interpreter": {
   "hash": "aee8b7b246df8f9039afb4144a1f6fd8d2ca17a180786b69acc140d282b71a49"
  },
  "kernelspec": {
   "display_name": "Python 3.9.6 64-bit",
   "language": "python",
   "name": "python3"
  },
  "language_info": {
   "codemirror_mode": {
    "name": "ipython",
    "version": 3
   },
   "file_extension": ".py",
   "mimetype": "text/x-python",
   "name": "python",
   "nbconvert_exporter": "python",
   "pygments_lexer": "ipython3",
   "version": "3.9.13"
  },
  "orig_nbformat": 4
 },
 "nbformat": 4,
 "nbformat_minor": 2
}
