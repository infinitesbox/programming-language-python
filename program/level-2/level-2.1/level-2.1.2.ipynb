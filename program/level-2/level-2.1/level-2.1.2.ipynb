{
 "cells": [
  {
   "cell_type": "code",
   "execution_count": 1,
   "metadata": {},
   "outputs": [
    {
     "name": "stdout",
     "output_type": "stream",
     "text": [
      "To print something ...\n"
     ]
    }
   ],
   "source": [
    "# there are some functions, variables ... are in the Default Module of Python\n",
    "# so you can use without the 'import' keyword\n",
    "\n",
    "print('To print something ...')"
   ]
  },
  {
   "cell_type": "code",
   "execution_count": 22,
   "metadata": {},
   "outputs": [],
   "source": [
    "# to get some data from the user\n",
    "row = input('Choose the line:') # this function always return a string\n",
    "\n",
    "print('The user select the row:', row)"
   ]
  },
  {
   "cell_type": "code",
   "execution_count": 24,
   "metadata": {},
   "outputs": [
    {
     "name": "stdout",
     "output_type": "stream",
     "text": [
      "List size: 9\n"
     ]
    }
   ],
   "source": [
    "squares = [\n",
    "    '-', 'X', '-', \n",
    "    '-', '-', 'O',\n",
    "    '-', '-', '-'\n",
    "]\n",
    "\n",
    "# to get the size of a List \n",
    "size = len(squares)\n",
    "print('List size:', size)"
   ]
  },
  {
   "cell_type": "code",
   "execution_count": 25,
   "metadata": {},
   "outputs": [
    {
     "name": "stdout",
     "output_type": "stream",
     "text": [
      "row: 3\n"
     ]
    }
   ],
   "source": [
    "# to change string to int\n",
    "row = int('3')\n",
    "print('row:', row)"
   ]
  }
 ],
 "metadata": {
  "interpreter": {
   "hash": "aee8b7b246df8f9039afb4144a1f6fd8d2ca17a180786b69acc140d282b71a49"
  },
  "kernelspec": {
   "display_name": "Python 3.9.6 64-bit",
   "language": "python",
   "name": "python3"
  },
  "language_info": {
   "codemirror_mode": {
    "name": "ipython",
    "version": 3
   },
   "file_extension": ".py",
   "mimetype": "text/x-python",
   "name": "python",
   "nbconvert_exporter": "python",
   "pygments_lexer": "ipython3",
   "version": "3.9.10"
  },
  "orig_nbformat": 4
 },
 "nbformat": 4,
 "nbformat_minor": 2
}
