{
 "cells": [
  {
   "cell_type": "code",
   "execution_count": 2,
   "metadata": {},
   "outputs": [
    {
     "ename": "ZeroDivisionError",
     "evalue": "division by zero",
     "output_type": "error",
     "traceback": [
      "\u001b[0;31m---------------------------------------------------------------------------\u001b[0m",
      "\u001b[0;31mZeroDivisionError\u001b[0m                         Traceback (most recent call last)",
      "\u001b[1;32m/Users/xmonkey/Projects/freedom/infinitesparkbox/playground/programming-language-python/level-2/level-2.1/level-2.1.2.ipynb Cell 1\u001b[0m in \u001b[0;36m<module>\u001b[0;34m\u001b[0m\n\u001b[1;32m      <a href='vscode-notebook-cell:/Users/xmonkey/Projects/freedom/infinitesparkbox/playground/programming-language-python/level-2/level-2.1/level-2.1.2.ipynb#ch0000000?line=0'>1</a>\u001b[0m \u001b[39m# sometime you will have some exception\u001b[39;00m\n\u001b[1;32m      <a href='vscode-notebook-cell:/Users/xmonkey/Projects/freedom/infinitesparkbox/playground/programming-language-python/level-2/level-2.1/level-2.1.2.ipynb#ch0000000?line=1'>2</a>\u001b[0m \u001b[39m# and you need to handle this\u001b[39;00m\n\u001b[0;32m----> <a href='vscode-notebook-cell:/Users/xmonkey/Projects/freedom/infinitesparkbox/playground/programming-language-python/level-2/level-2.1/level-2.1.2.ipynb#ch0000000?line=3'>4</a>\u001b[0m \u001b[39m10\u001b[39;49m \u001b[39m/\u001b[39;49m \u001b[39m0\u001b[39;49m\n",
      "\u001b[0;31mZeroDivisionError\u001b[0m: division by zero"
     ]
    }
   ],
   "source": [
    "# sometime you will have some Exceptions\n",
    "10 / 0"
   ]
  },
  {
   "cell_type": "code",
   "execution_count": 7,
   "metadata": {},
   "outputs": [
    {
     "name": "stdout",
     "output_type": "stream",
     "text": [
      "Something wrong ...\n"
     ]
    }
   ],
   "source": [
    "# you can handle in this following way\n",
    "try: \n",
    "    # some lines of code can make some Exceptions\n",
    "    # for example \n",
    "    10 / 0\n",
    "except:\n",
    "    print('Something wrong ...')"
   ]
  },
  {
   "cell_type": "code",
   "execution_count": 8,
   "metadata": {},
   "outputs": [],
   "source": [
    "# if you know the name of the Exception yo do in this following way\n",
    "try:\n",
    "    10 / 0\n",
    "except ZeroDivisionError:\n",
    "    print('Something wrong ...')"
   ]
  },
  {
   "cell_type": "code",
   "execution_count": 18,
   "metadata": {},
   "outputs": [
    {
     "name": "stdout",
     "output_type": "stream",
     "text": [
      "Something wrong ... Type\n"
     ]
    }
   ],
   "source": [
    "# you can also do in this following way \n",
    "try:\n",
    "    # some lines of code can make some Exceptions\n",
    "    # for example \n",
    "    '10' / 0\n",
    "except TypeError: # one type of Exception\n",
    "    print('Something wrong ... Type')\n",
    "except ZeroDivisionError: # one type of Exception\n",
    "    print('Something wrong ... Zero')\n",
    "# ... you can put as many you need to deal"
   ]
  },
  {
   "cell_type": "code",
   "execution_count": 21,
   "metadata": {},
   "outputs": [
    {
     "name": "stdout",
     "output_type": "stream",
     "text": [
      "Something wrong ...\n",
      "Save all data and close this Calculator.\n"
     ]
    }
   ],
   "source": [
    "# you can also do in this following way\n",
    "try:\n",
    "    10 / 0\n",
    "except (TypeError, ZeroDivisionError):\n",
    "    print('Something wrong ...')\n",
    "\n",
    "# Exceptions or not this following linis of code will be done\n",
    "finally:\n",
    "    print('Save all data and close this Calculator.')"
   ]
  },
  {
   "cell_type": "code",
   "execution_count": 11,
   "metadata": {},
   "outputs": [
    {
     "name": "stdout",
     "output_type": "stream",
     "text": [
      "you select the following row 3\n"
     ]
    }
   ],
   "source": [
    "# you can also manually create an Exception\n",
    "\n",
    "# this function can make and exception\n",
    "def select_row():\n",
    "    row = input('Select Row:')\n",
    "    row = int(row)\n",
    "    if(row < 1 or row > 3):\n",
    "        raise # it is an Exception\n",
    "    return row\n",
    "\n",
    "\n",
    "# let's try the previous function\n",
    "\n",
    "try:\n",
    "    # you must call inside 'try' block\n",
    "    row = select_row()\n",
    "    # nothing wrong so the following code will be done\n",
    "    print('you select the following row', row)\n",
    "    # ...\n",
    "except:\n",
    "    print('You must select a valid row.')\n"
   ]
  }
 ],
 "metadata": {
  "interpreter": {
   "hash": "aee8b7b246df8f9039afb4144a1f6fd8d2ca17a180786b69acc140d282b71a49"
  },
  "kernelspec": {
   "display_name": "Python 3.9.6 64-bit",
   "language": "python",
   "name": "python3"
  },
  "language_info": {
   "codemirror_mode": {
    "name": "ipython",
    "version": 3
   },
   "file_extension": ".py",
   "mimetype": "text/x-python",
   "name": "python",
   "nbconvert_exporter": "python",
   "pygments_lexer": "ipython3",
   "version": "3.9.10"
  },
  "orig_nbformat": 4
 },
 "nbformat": 4,
 "nbformat_minor": 2
}
