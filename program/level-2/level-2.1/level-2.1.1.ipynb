{
 "cells": [
  {
   "cell_type": "code",
   "execution_count": 7,
   "metadata": {},
   "outputs": [
    {
     "data": {
      "text/plain": [
       "'package_user.module_users'"
      ]
     },
     "execution_count": 7,
     "metadata": {},
     "output_type": "execute_result"
    }
   ],
   "source": [
    "# to use some Modules you need to import\n",
    "# you need the keywords 'import' and 'as'\n",
    "# 'import' is to slect the Module\n",
    "# 'as' is to temporary give a short name  \n",
    "import package_user.module_users as libs\n",
    "\n",
    "# it print the real name of the modul\n",
    "libs.__name__"
   ]
  },
  {
   "cell_type": "code",
   "execution_count": 8,
   "metadata": {},
   "outputs": [
    {
     "name": "stdout",
     "output_type": "stream",
     "text": [
      "Create Data ...\n"
     ]
    }
   ],
   "source": [
    "import package_user.module_users as libs\n",
    "\n",
    "# then you can use any functions, variables, ... in the Module\n",
    "libs.users_create({ \n",
    "    'name': 'John Doe',\n",
    "    'email': 'johndoe@customer.com',\n",
    "    'password': 'customer1',\n",
    "})"
   ]
  },
  {
   "cell_type": "code",
   "execution_count": 10,
   "metadata": {},
   "outputs": [
    {
     "name": "stdout",
     "output_type": "stream",
     "text": [
      "Create Data ...\n",
      "Find User By id ...\n"
     ]
    }
   ],
   "source": [
    "# you can also just import only several functions, variables ... in this following way \n",
    "from package_user.module_users import users_create, users_find_by_id\n",
    "\n",
    "users_create({ \n",
    "    'id': 1,\n",
    "    'name': 'John Doe',\n",
    "    'email': 'johndoe@customer.com',\n",
    "    'password': 'customer1',\n",
    "})\n",
    "\n",
    "users_find_by_id(1)"
   ]
  },
  {
   "cell_type": "code",
   "execution_count": 11,
   "metadata": {},
   "outputs": [
    {
     "name": "stdout",
     "output_type": "stream",
     "text": [
      "Create Data ...\n",
      "Find User By id ...\n"
     ]
    }
   ],
   "source": [
    "# you can also do in this following way\n",
    "from package_user.module_users import users_create as uc, users_find_by_id as ufbi\n",
    "\n",
    "uc({ \n",
    "    'id': 1,\n",
    "    'name': 'John Doe',\n",
    "    'email': 'johndoe@customer.com',\n",
    "    'password': 'customer1',\n",
    "})\n",
    "\n",
    "ufbi(1)"
   ]
  },
  {
   "cell_type": "code",
   "execution_count": 12,
   "metadata": {},
   "outputs": [
    {
     "name": "stdout",
     "output_type": "stream",
     "text": [
      "Create Data ...\n",
      "Find User By id ...\n"
     ]
    }
   ],
   "source": [
    "# you can import all functions, variables, ... in this following way\n",
    "from package_user.module_users import *\n",
    "\n",
    "users_create({ \n",
    "    'id': 1,\n",
    "    'name': 'John Doe',\n",
    "    'email': 'johndoe@customer.com',\n",
    "    'password': 'customer1',\n",
    "})\n",
    "\n",
    "users_find_by_id(1)"
   ]
  }
 ],
 "metadata": {
  "interpreter": {
   "hash": "aee8b7b246df8f9039afb4144a1f6fd8d2ca17a180786b69acc140d282b71a49"
  },
  "kernelspec": {
   "display_name": "Python 3.9.6 64-bit",
   "language": "python",
   "name": "python3"
  },
  "language_info": {
   "codemirror_mode": {
    "name": "ipython",
    "version": 3
   },
   "file_extension": ".py",
   "mimetype": "text/x-python",
   "name": "python",
   "nbconvert_exporter": "python",
   "pygments_lexer": "ipython3",
   "version": "3.9.10"
  },
  "orig_nbformat": 4
 },
 "nbformat": 4,
 "nbformat_minor": 2
}
